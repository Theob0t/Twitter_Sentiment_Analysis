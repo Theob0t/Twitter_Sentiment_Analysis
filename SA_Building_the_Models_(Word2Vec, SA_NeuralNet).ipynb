{
 "cells": [
  {
   "cell_type": "markdown",
   "metadata": {
    "toc": true
   },
   "source": [
    "<h1>Table of Contents<span class=\"tocSkip\"></span></h1>\n",
    "<div class=\"toc\"><ul class=\"toc-item\"><li><span><a href=\"#Data-pre-processing\" data-toc-modified-id=\"Data-pre-processing-1\"><span class=\"toc-item-num\">1&nbsp;&nbsp;</span>Data pre-processing</a></span></li><li><span><a href=\"#Building-the-word2vec-model\" data-toc-modified-id=\"Building-the-word2vec-model-2\"><span class=\"toc-item-num\">2&nbsp;&nbsp;</span>Building the word2vec model</a></span></li><li><span><a href=\"#Building-a-sentiment-classifier\" data-toc-modified-id=\"Building-a-sentiment-classifier-3\"><span class=\"toc-item-num\">3&nbsp;&nbsp;</span>Building a sentiment classifier</a></span></li><li><span><a href=\"#Testing\" data-toc-modified-id=\"Testing-4\"><span class=\"toc-item-num\">4&nbsp;&nbsp;</span>Testing</a></span></li><li><span><a href=\"#Scrapping-Twitter\" data-toc-modified-id=\"Scrapping-Twitter-5\"><span class=\"toc-item-num\">5&nbsp;&nbsp;</span>Scrapping Twitter</a></span></li></ul></div>"
   ]
  },
  {
   "cell_type": "markdown",
   "metadata": {},
   "source": [
    "# Sentimental Analysis - BUILDING THE MODELS"
   ]
  },
  {
   "cell_type": "code",
   "execution_count": 187,
   "metadata": {},
   "outputs": [
    {
     "name": "stderr",
     "output_type": "stream",
     "text": [
      "C:\\Users\\theo0\\anaconda3\\envs\\keras_env\\lib\\site-packages\\tqdm\\std.py:668: FutureWarning: The Panel class is removed from pandas. Accessing it from the top-level namespace will also be removed in the next version\n",
      "  from pandas import Panel\n"
     ]
    }
   ],
   "source": [
    "import pandas as pd # provide sql-like data manipulation tools. very handy.\n",
    "\n",
    "import numpy as np # high dimensional vector computing library.\n",
    "\n",
    "from string import punctuation\n",
    "from random import shuffle\n",
    "\n",
    "from tqdm import tqdm\n",
    "tqdm.pandas(desc=\"progress-bar\")\n",
    "\n",
    "import gensim\n",
    "from gensim.models.word2vec import Word2Vec # the word2vec model gensim class\n",
    "LabeledSentence = gensim.models.doc2vec.LabeledSentence # we'll talk about this down below\n",
    "TaggedDocument = gensim.models.doc2vec.TaggedDocument\n",
    "\n",
    "from nltk.tokenize import TweetTokenizer # a tweet tokenizer from nltk.\n",
    "tokenizer = TweetTokenizer()\n",
    "\n",
    "from sklearn.model_selection import train_test_split\n",
    "from sklearn.feature_extraction.text import TfidfVectorizer\n",
    "\n",
    "#Sources:\n",
    "#https://www.ahmedbesbes.com/blog/sentiment-analysis-with-keras-and-word-2-vec\n",
    "#https://towardsdatascience.com/sentiment-analysis-for-text-with-deep-learning-2f0a0c6472b5\n",
    "#https://www.youtube.com/watch?v=mI23bDF0VRI"
   ]
  },
  {
   "cell_type": "markdown",
   "metadata": {},
   "source": [
    "## Data pre-processing"
   ]
  },
  {
   "cell_type": "markdown",
   "metadata": {},
   "source": [
    "Let's define a function that loads the dataset and extracts the two columns we need:\n",
    "\n",
    "The sentiment: a binary (0/1) variable\n",
    "\n",
    "The text of the tweet: string"
   ]
  },
  {
   "cell_type": "code",
   "execution_count": 188,
   "metadata": {},
   "outputs": [
    {
     "name": "stdout",
     "output_type": "stream",
     "text": [
      "dataset loaded with shape (1048575, 2)\n"
     ]
    },
    {
     "data": {
      "text/html": [
       "<div>\n",
       "<style scoped>\n",
       "    .dataframe tbody tr th:only-of-type {\n",
       "        vertical-align: middle;\n",
       "    }\n",
       "\n",
       "    .dataframe tbody tr th {\n",
       "        vertical-align: top;\n",
       "    }\n",
       "\n",
       "    .dataframe thead th {\n",
       "        text-align: right;\n",
       "    }\n",
       "</style>\n",
       "<table border=\"1\" class=\"dataframe\">\n",
       "  <thead>\n",
       "    <tr style=\"text-align: right;\">\n",
       "      <th></th>\n",
       "      <th>Sentiment</th>\n",
       "      <th>SentimentText</th>\n",
       "    </tr>\n",
       "  </thead>\n",
       "  <tbody>\n",
       "    <tr>\n",
       "      <th>0</th>\n",
       "      <td>0</td>\n",
       "      <td>is upset that he can't update his Facebook by ...</td>\n",
       "    </tr>\n",
       "    <tr>\n",
       "      <th>1</th>\n",
       "      <td>0</td>\n",
       "      <td>@Kenichan I dived many times for the ball. Man...</td>\n",
       "    </tr>\n",
       "    <tr>\n",
       "      <th>2</th>\n",
       "      <td>0</td>\n",
       "      <td>my whole body feels itchy and like its on fire</td>\n",
       "    </tr>\n",
       "    <tr>\n",
       "      <th>3</th>\n",
       "      <td>0</td>\n",
       "      <td>@nationwideclass no, it's not behaving at all....</td>\n",
       "    </tr>\n",
       "    <tr>\n",
       "      <th>4</th>\n",
       "      <td>0</td>\n",
       "      <td>@Kwesidei not the whole crew</td>\n",
       "    </tr>\n",
       "  </tbody>\n",
       "</table>\n",
       "</div>"
      ],
      "text/plain": [
       "   Sentiment                                      SentimentText\n",
       "0          0  is upset that he can't update his Facebook by ...\n",
       "1          0  @Kenichan I dived many times for the ball. Man...\n",
       "2          0    my whole body feels itchy and like its on fire \n",
       "3          0  @nationwideclass no, it's not behaving at all....\n",
       "4          0                      @Kwesidei not the whole crew "
      ]
     },
     "execution_count": 188,
     "metadata": {},
     "output_type": "execute_result"
    }
   ],
   "source": [
    "def ingest():\n",
    "    data = pd.read_csv('data/training.csv', engine='python')\n",
    "    data = data[data.Sentiment.isnull() == False]\n",
    "    data['Sentiment'] = data['Sentiment'].map(int)\n",
    "    data = data[data['SentimentText'].isnull() == False]\n",
    "    data.reset_index(inplace=True)\n",
    "    data.drop('index', axis=1, inplace=True)\n",
    "    print('dataset loaded with shape', data.shape)    \n",
    "    return data\n",
    "\n",
    "data = ingest()\n",
    "data.head(5)"
   ]
  },
  {
   "cell_type": "markdown",
   "metadata": {},
   "source": [
    "The format of the SentimenText is not useful. It needs to be tokenized and cleaned."
   ]
  },
  {
   "cell_type": "code",
   "execution_count": 189,
   "metadata": {},
   "outputs": [],
   "source": [
    "def tokenize(tweet):\n",
    "    tweet = tweet.lower()\n",
    "    tweet = ' '.join([ t for t in tweet.split() if not t.startswith(('@','#','http')) ])\n",
    "    #print(tweet)\n",
    "    tokens = tokenizer.tokenize(tweet)\n",
    "    return tokens"
   ]
  },
  {
   "cell_type": "code",
   "execution_count": 190,
   "metadata": {
    "scrolled": true
   },
   "outputs": [],
   "source": [
    "data['tokens'] = [tokenize(data.SentimentText[i]) for i in range(len(data.SentimentText))]"
   ]
  },
  {
   "cell_type": "code",
   "execution_count": 191,
   "metadata": {},
   "outputs": [],
   "source": [
    "data.Sentiment = data.Sentiment.replace(4,1)"
   ]
  },
  {
   "cell_type": "code",
   "execution_count": 192,
   "metadata": {},
   "outputs": [
    {
     "data": {
      "text/html": [
       "<div>\n",
       "<style scoped>\n",
       "    .dataframe tbody tr th:only-of-type {\n",
       "        vertical-align: middle;\n",
       "    }\n",
       "\n",
       "    .dataframe tbody tr th {\n",
       "        vertical-align: top;\n",
       "    }\n",
       "\n",
       "    .dataframe thead th {\n",
       "        text-align: right;\n",
       "    }\n",
       "</style>\n",
       "<table border=\"1\" class=\"dataframe\">\n",
       "  <thead>\n",
       "    <tr style=\"text-align: right;\">\n",
       "      <th></th>\n",
       "      <th>Sentiment</th>\n",
       "      <th>SentimentText</th>\n",
       "      <th>tokens</th>\n",
       "    </tr>\n",
       "  </thead>\n",
       "  <tbody>\n",
       "    <tr>\n",
       "      <th>0</th>\n",
       "      <td>0</td>\n",
       "      <td>is upset that he can't update his Facebook by ...</td>\n",
       "      <td>[is, upset, that, he, can't, update, his, face...</td>\n",
       "    </tr>\n",
       "    <tr>\n",
       "      <th>1</th>\n",
       "      <td>0</td>\n",
       "      <td>@Kenichan I dived many times for the ball. Man...</td>\n",
       "      <td>[i, dived, many, times, for, the, ball, ., man...</td>\n",
       "    </tr>\n",
       "    <tr>\n",
       "      <th>2</th>\n",
       "      <td>0</td>\n",
       "      <td>my whole body feels itchy and like its on fire</td>\n",
       "      <td>[my, whole, body, feels, itchy, and, like, its...</td>\n",
       "    </tr>\n",
       "    <tr>\n",
       "      <th>3</th>\n",
       "      <td>0</td>\n",
       "      <td>@nationwideclass no, it's not behaving at all....</td>\n",
       "      <td>[no, ,, it's, not, behaving, at, all, ., i'm, ...</td>\n",
       "    </tr>\n",
       "    <tr>\n",
       "      <th>4</th>\n",
       "      <td>0</td>\n",
       "      <td>@Kwesidei not the whole crew</td>\n",
       "      <td>[not, the, whole, crew]</td>\n",
       "    </tr>\n",
       "    <tr>\n",
       "      <th>...</th>\n",
       "      <td>...</td>\n",
       "      <td>...</td>\n",
       "      <td>...</td>\n",
       "    </tr>\n",
       "    <tr>\n",
       "      <th>1048570</th>\n",
       "      <td>1</td>\n",
       "      <td>My GrandMa is making Dinenr with my Mum</td>\n",
       "      <td>[my, grandma, is, making, dinenr, with, my, mum]</td>\n",
       "    </tr>\n",
       "    <tr>\n",
       "      <th>1048571</th>\n",
       "      <td>1</td>\n",
       "      <td>Mid-morning snack time... A bowl of cheese noo...</td>\n",
       "      <td>[mid-morning, snack, time, ..., a, bowl, of, c...</td>\n",
       "    </tr>\n",
       "    <tr>\n",
       "      <th>1048572</th>\n",
       "      <td>1</td>\n",
       "      <td>@ShaDeLa same here  say it like from the Termi...</td>\n",
       "      <td>[same, here, say, it, like, from, the, termini...</td>\n",
       "    </tr>\n",
       "    <tr>\n",
       "      <th>1048573</th>\n",
       "      <td>1</td>\n",
       "      <td>@DestinyHope92 im great thaanks  wbuu?</td>\n",
       "      <td>[im, great, thaanks, wbuu, ?]</td>\n",
       "    </tr>\n",
       "    <tr>\n",
       "      <th>1048574</th>\n",
       "      <td>1</td>\n",
       "      <td>cant wait til her date this weekend</td>\n",
       "      <td>[cant, wait, til, her, date, this, weekend]</td>\n",
       "    </tr>\n",
       "  </tbody>\n",
       "</table>\n",
       "<p>1048575 rows × 3 columns</p>\n",
       "</div>"
      ],
      "text/plain": [
       "         Sentiment                                      SentimentText  \\\n",
       "0                0  is upset that he can't update his Facebook by ...   \n",
       "1                0  @Kenichan I dived many times for the ball. Man...   \n",
       "2                0    my whole body feels itchy and like its on fire    \n",
       "3                0  @nationwideclass no, it's not behaving at all....   \n",
       "4                0                      @Kwesidei not the whole crew    \n",
       "...            ...                                                ...   \n",
       "1048570          1           My GrandMa is making Dinenr with my Mum    \n",
       "1048571          1  Mid-morning snack time... A bowl of cheese noo...   \n",
       "1048572          1  @ShaDeLa same here  say it like from the Termi...   \n",
       "1048573          1             @DestinyHope92 im great thaanks  wbuu?   \n",
       "1048574          1               cant wait til her date this weekend    \n",
       "\n",
       "                                                    tokens  \n",
       "0        [is, upset, that, he, can't, update, his, face...  \n",
       "1        [i, dived, many, times, for, the, ball, ., man...  \n",
       "2        [my, whole, body, feels, itchy, and, like, its...  \n",
       "3        [no, ,, it's, not, behaving, at, all, ., i'm, ...  \n",
       "4                                  [not, the, whole, crew]  \n",
       "...                                                    ...  \n",
       "1048570   [my, grandma, is, making, dinenr, with, my, mum]  \n",
       "1048571  [mid-morning, snack, time, ..., a, bowl, of, c...  \n",
       "1048572  [same, here, say, it, like, from, the, termini...  \n",
       "1048573                      [im, great, thaanks, wbuu, ?]  \n",
       "1048574        [cant, wait, til, her, date, this, weekend]  \n",
       "\n",
       "[1048575 rows x 3 columns]"
      ]
     },
     "execution_count": 192,
     "metadata": {},
     "output_type": "execute_result"
    }
   ],
   "source": [
    "data"
   ]
  },
  {
   "cell_type": "code",
   "execution_count": 193,
   "metadata": {},
   "outputs": [
    {
     "name": "stderr",
     "output_type": "stream",
     "text": [
      "C:\\Users\\theo0\\anaconda3\\envs\\keras_env\\lib\\site-packages\\pandas\\core\\frame.py:4164: SettingWithCopyWarning: \n",
      "A value is trying to be set on a copy of a slice from a DataFrame\n",
      "\n",
      "See the caveats in the documentation: https://pandas.pydata.org/pandas-docs/stable/user_guide/indexing.html#returning-a-view-versus-a-copy\n",
      "  errors=errors,\n"
     ]
    }
   ],
   "source": [
    "def postprocess(data, n=1000000):\n",
    "    data = data.head(n)\n",
    "    data.reset_index(inplace=True)\n",
    "    data.drop('index', inplace=True, axis=1)\n",
    "    return data\n",
    "\n",
    "data_ = postprocess(data)"
   ]
  },
  {
   "cell_type": "code",
   "execution_count": 194,
   "metadata": {},
   "outputs": [],
   "source": [
    "data_.to_csv('data/train_tokens.csv', index=False)"
   ]
  },
  {
   "cell_type": "markdown",
   "metadata": {},
   "source": [
    "## Building the word2vec model"
   ]
  },
  {
   "cell_type": "code",
   "execution_count": 195,
   "metadata": {},
   "outputs": [],
   "source": [
    "x_train, x_test, y_train, y_test = train_test_split(np.array(data_.tokens),\n",
    "                                                    np.array(data_.Sentiment), test_size=0.2)"
   ]
  },
  {
   "cell_type": "markdown",
   "metadata": {},
   "source": [
    "Before feeding lists of tokens into the word2vec model, we must turn them into LabeledSentence objects beforehand.\n",
    "(LabeledSentence Objects)"
   ]
  },
  {
   "cell_type": "code",
   "execution_count": 196,
   "metadata": {},
   "outputs": [
    {
     "name": "stderr",
     "output_type": "stream",
     "text": [
      "0it [00:00, ?it/s]C:\\Users\\theo0\\anaconda3\\envs\\keras_env\\lib\\site-packages\\ipykernel_launcher.py:5: DeprecationWarning: Call to deprecated `LabeledSentence` (Class will be removed in 4.0.0, use TaggedDocument instead).\n",
      "  \"\"\"\n",
      "800000it [00:08, 97418.33it/s] \n",
      "200000it [00:00, 337817.83it/s]\n"
     ]
    }
   ],
   "source": [
    "def labelizeTweets(tweets, label_type):\n",
    "    labelized = []\n",
    "    for i,v in tqdm(enumerate(tweets)):\n",
    "        label = '%s_%s'%(label_type,i)\n",
    "        labelized.append(LabeledSentence(v, [label]))\n",
    "    return labelized\n",
    "\n",
    "x_train = labelizeTweets(x_train, 'TRAIN')\n",
    "x_test = labelizeTweets(x_test, 'TEST')"
   ]
  },
  {
   "cell_type": "code",
   "execution_count": 197,
   "metadata": {},
   "outputs": [
    {
     "data": {
      "text/plain": [
       "LabeledSentence(words=['i', 'wish', 'i', 'was', 'going', ',', 'proper', 'love', 'go', ':', 'audio', '<3'], tags=['TRAIN_0'])"
      ]
     },
     "execution_count": 197,
     "metadata": {},
     "output_type": "execute_result"
    }
   ],
   "source": [
    "x_train[0]"
   ]
  },
  {
   "cell_type": "markdown",
   "metadata": {},
   "source": [
    "Now we are ready to build the word2vec model from x_train i.e. the corpus."
   ]
  },
  {
   "cell_type": "code",
   "execution_count": 198,
   "metadata": {},
   "outputs": [],
   "source": [
    "#the model is initialized with the dimension of the vector space (we set it to 200) and \n",
    "#min_count (a threshold for filtering words that appear less)\n",
    "n_dim = 200\n",
    "tweet_w2v = Word2Vec(size=n_dim, min_count=10)"
   ]
  },
  {
   "cell_type": "code",
   "execution_count": 199,
   "metadata": {},
   "outputs": [
    {
     "name": "stderr",
     "output_type": "stream",
     "text": [
      "100%|█████████████████████████████████████████████████████████████████████| 800000/800000 [00:00<00:00, 2040841.36it/s]\n"
     ]
    }
   ],
   "source": [
    "# vocabulary is created.\n",
    "tweet_w2v.build_vocab([x.words for x in tqdm(x_train)])"
   ]
  },
  {
   "cell_type": "code",
   "execution_count": 200,
   "metadata": {},
   "outputs": [
    {
     "name": "stderr",
     "output_type": "stream",
     "text": [
      "100%|█████████████████████████████████████████████████████████████████████| 800000/800000 [00:00<00:00, 2105291.58it/s]\n",
      "C:\\Users\\theo0\\anaconda3\\envs\\keras_env\\lib\\site-packages\\ipykernel_launcher.py:2: DeprecationWarning: Call to deprecated `iter` (Attribute will be removed in 4.0.0, use self.epochs instead).\n",
      "  \n"
     ]
    },
    {
     "data": {
      "text/plain": [
       "(43065191, 59803780)"
      ]
     },
     "execution_count": 200,
     "metadata": {},
     "output_type": "execute_result"
    }
   ],
   "source": [
    "#the model is trained i.e. its weights are updated.\n",
    "tweet_w2v.train([x.words for x in tqdm(x_train)],total_examples=tweet_w2v.corpus_count, epochs=tweet_w2v.iter)"
   ]
  },
  {
   "cell_type": "code",
   "execution_count": 256,
   "metadata": {},
   "outputs": [],
   "source": [
    "tweet_w2v.save(\"models/word2vec.model\")"
   ]
  },
  {
   "cell_type": "code",
   "execution_count": 253,
   "metadata": {},
   "outputs": [
    {
     "name": "stderr",
     "output_type": "stream",
     "text": [
      "C:\\Users\\theo0\\anaconda3\\envs\\keras_env\\lib\\site-packages\\ipykernel_launcher.py:1: DeprecationWarning: Call to deprecated `most_similar` (Method will be removed in 4.0.0, use self.wv.most_similar() instead).\n",
      "  \"\"\"Entry point for launching an IPython kernel.\n"
     ]
    },
    {
     "data": {
      "text/plain": [
       "[('thumb', 0.8844152092933655),\n",
       " ('toe', 0.8621228337287903),\n",
       " ('tongue', 0.8546328544616699),\n",
       " ('foot', 0.8509114980697632),\n",
       " ('lip', 0.8447337746620178),\n",
       " ('leg', 0.8360134959220886),\n",
       " ('elbow', 0.8356807231903076),\n",
       " ('arm', 0.8269048929214478),\n",
       " ('ankle', 0.8137351870536804),\n",
       " ('wrist', 0.7897714376449585)]"
      ]
     },
     "execution_count": 253,
     "metadata": {},
     "output_type": "execute_result"
    }
   ],
   "source": [
    "tweet_w2v.most_similar('finger')"
   ]
  },
  {
   "cell_type": "markdown",
   "metadata": {},
   "source": [
    "## Building a sentiment classifier"
   ]
  },
  {
   "cell_type": "markdown",
   "metadata": {},
   "source": [
    "As for now, we have a word2vec model that converts each word from the corpus into a high dimensional vector. \n",
    "\n",
    "In order to classify tweets, we have to turn them into vectors as well. \n",
    "\n",
    "Since we know the vector representation of each word composing a tweet, we have to \"combine\" these vectors together and get a new one that represents the tweet as a whole."
   ]
  },
  {
   "cell_type": "markdown",
   "metadata": {},
   "source": [
    "To do that: \n",
    "\n",
    "Compute a weighted average where each weight gives the importance of the word with respect to the corpus. Such a weight could the tf-idf score. "
   ]
  },
  {
   "cell_type": "markdown",
   "metadata": {},
   "source": [
    "###### Let's start by building a tf-idf matrix."
   ]
  },
  {
   "cell_type": "code",
   "execution_count": 257,
   "metadata": {},
   "outputs": [
    {
     "name": "stdout",
     "output_type": "stream",
     "text": [
      "building tf-idf matrix ...\n",
      "vocab size : 23169\n"
     ]
    }
   ],
   "source": [
    "print('building tf-idf matrix ...')\n",
    "vectorizer = TfidfVectorizer(analyzer=lambda x: x, min_df=10)\n",
    "matrix = vectorizer.fit_transform([x.words for x in x_train])\n",
    "tfidf = dict(zip(vectorizer.get_feature_names(), vectorizer.idf_))\n",
    "print('vocab size :', len(tfidf))"
   ]
  },
  {
   "cell_type": "code",
   "execution_count": 261,
   "metadata": {},
   "outputs": [],
   "source": [
    "import pickle\n",
    "\n",
    "pickle.dump(tfidf, open(\"models/tfidf.pickle\", \"wb\"))"
   ]
  },
  {
   "cell_type": "markdown",
   "metadata": {},
   "source": [
    "###### Now let's define a function that, given a list of tweet tokens, creates an averaged tweet vector."
   ]
  },
  {
   "cell_type": "code",
   "execution_count": 203,
   "metadata": {},
   "outputs": [],
   "source": [
    "def buildWordVector(tokens, size):\n",
    "    vec = np.zeros(size).reshape((1, size))\n",
    "    count = 0.\n",
    "    for word in tokens:\n",
    "        try:\n",
    "            vec += tweet_w2v[word].reshape((1, size)) * tfidf[word]\n",
    "            count += 1.\n",
    "        except KeyError: # handling the case where the token is not\n",
    "                         # in the corpus. useful for testing.\n",
    "            continue\n",
    "            \n",
    "    #avoid 0 division\n",
    "    if count != 0:\n",
    "        vec /= count\n",
    "    return vec"
   ]
  },
  {
   "cell_type": "code",
   "execution_count": null,
   "metadata": {},
   "outputs": [],
   "source": []
  },
  {
   "cell_type": "markdown",
   "metadata": {},
   "source": [
    "Now we convert xtrain and and xtest into list of vectors using this function. \n",
    "\n",
    "We also scale each column to have zero mean and unit standard deviation."
   ]
  },
  {
   "cell_type": "code",
   "execution_count": 204,
   "metadata": {},
   "outputs": [
    {
     "name": "stderr",
     "output_type": "stream",
     "text": [
      "0it [00:00, ?it/s]C:\\Users\\theo0\\anaconda3\\envs\\keras_env\\lib\\site-packages\\ipykernel_launcher.py:6: DeprecationWarning: Call to deprecated `__getitem__` (Method will be removed in 4.0.0, use self.wv.__getitem__() instead).\n",
      "  \n",
      "800000it [01:49, 7274.59it/s]\n",
      "0it [00:00, ?it/s]C:\\Users\\theo0\\anaconda3\\envs\\keras_env\\lib\\site-packages\\ipykernel_launcher.py:6: DeprecationWarning: Call to deprecated `__getitem__` (Method will be removed in 4.0.0, use self.wv.__getitem__() instead).\n",
      "  \n",
      "200000it [00:29, 6698.75it/s]\n"
     ]
    }
   ],
   "source": [
    "from sklearn.preprocessing import scale\n",
    "\n",
    "train_vecs_w2v = np.concatenate([buildWordVector(z, n_dim) for z in tqdm(map(lambda x: x.words, x_train))])\n",
    "train_vecs_w2v = scale(train_vecs_w2v)\n",
    "\n",
    "test_vecs_w2v = np.concatenate([buildWordVector(z, n_dim) for z in tqdm(map(lambda x: x.words, x_test))])\n",
    "test_vecs_w2v = scale(test_vecs_w2v)"
   ]
  },
  {
   "cell_type": "markdown",
   "metadata": {},
   "source": [
    "We should now be ready to feed these vectors into a neural network classifier"
   ]
  },
  {
   "cell_type": "code",
   "execution_count": 215,
   "metadata": {},
   "outputs": [
    {
     "name": "stdout",
     "output_type": "stream",
     "text": [
      "Train on 560000 samples, validate on 240000 samples\n",
      "Epoch 1/9\n",
      "560000/560000 [==============================] - 24s 42us/step - loss: 0.3537 - accuracy: 0.8517 - val_loss: 0.3414 - val_accuracy: 0.8568\n",
      "\n",
      "Epoch 00001: val_accuracy improved from -inf to 0.85681, saving model to best_model.h5\n",
      "Epoch 2/9\n",
      "560000/560000 [==============================] - 22s 39us/step - loss: 0.3382 - accuracy: 0.8579 - val_loss: 0.3386 - val_accuracy: 0.8584\n",
      "\n",
      "Epoch 00002: val_accuracy improved from 0.85681 to 0.85842, saving model to best_model.h5\n",
      "Epoch 3/9\n",
      "560000/560000 [==============================] - 22s 39us/step - loss: 0.3343 - accuracy: 0.8597 - val_loss: 0.3361 - val_accuracy: 0.8589\n",
      "\n",
      "Epoch 00003: val_accuracy improved from 0.85842 to 0.85893, saving model to best_model.h5\n",
      "Epoch 4/9\n",
      "560000/560000 [==============================] - 22s 39us/step - loss: 0.3317 - accuracy: 0.8610 - val_loss: 0.3356 - val_accuracy: 0.8592\n",
      "\n",
      "Epoch 00004: val_accuracy improved from 0.85893 to 0.85924, saving model to best_model.h5\n",
      "Epoch 5/9\n",
      "560000/560000 [==============================] - 22s 39us/step - loss: 0.3300 - accuracy: 0.8614 - val_loss: 0.3358 - val_accuracy: 0.8594\n",
      "\n",
      "Epoch 00005: val_accuracy improved from 0.85924 to 0.85943, saving model to best_model.h5\n",
      "Epoch 6/9\n",
      "560000/560000 [==============================] - 22s 40us/step - loss: 0.3286 - accuracy: 0.8621 - val_loss: 0.3360 - val_accuracy: 0.8584\n",
      "\n",
      "Epoch 00006: val_accuracy did not improve from 0.85943\n",
      "Epoch 7/9\n",
      "560000/560000 [==============================] - 22s 39us/step - loss: 0.3275 - accuracy: 0.8624 - val_loss: 0.3344 - val_accuracy: 0.8608\n",
      "\n",
      "Epoch 00007: val_accuracy improved from 0.85943 to 0.86080, saving model to best_model.h5\n",
      "Epoch 8/9\n",
      "560000/560000 [==============================] - 22s 39us/step - loss: 0.3266 - accuracy: 0.8628 - val_loss: 0.3341 - val_accuracy: 0.8607\n",
      "\n",
      "Epoch 00008: val_accuracy did not improve from 0.86080\n",
      "Epoch 9/9\n",
      "560000/560000 [==============================] - 23s 40us/step - loss: 0.3258 - accuracy: 0.8631 - val_loss: 0.3358 - val_accuracy: 0.8593\n",
      "\n",
      "Epoch 00009: val_accuracy did not improve from 0.86080\n"
     ]
    }
   ],
   "source": [
    "from keras import Sequential\n",
    "from keras.layers.core import Dense\n",
    "from keras.callbacks import EarlyStopping, ModelCheckpoint\n",
    "\n",
    "model = Sequential()\n",
    "model.add(Dense(32, activation='relu', input_dim=200))\n",
    "model.add(Dense(1, activation='sigmoid'))\n",
    "model.compile(optimizer='adam',\n",
    "              loss='binary_crossentropy',\n",
    "              metrics=['accuracy'])\n",
    "\n",
    "es = EarlyStopping(monitor='val_loss', mode='min', verbose=1, patience=200)\n",
    "mc = ModelCheckpoint('models/best_model.h5', monitor='val_accuracy', mode='max', verbose=1, save_best_only=True)\n",
    "\n",
    "history = model.fit(train_vecs_w2v, y_train, epochs=9, batch_size=32, verbose=1, validation_split=0.3, callbacks=[es, mc])"
   ]
  },
  {
   "cell_type": "code",
   "execution_count": 216,
   "metadata": {},
   "outputs": [
    {
     "data": {
      "image/png": "[encoded data removed]",
      "text/plain": [
       "<Figure size 432x288 with 1 Axes>"
      ]
     },
     "metadata": {
      "needs_background": "light"
     },
     "output_type": "display_data"
    }
   ],
   "source": [
    "import matplotlib.pyplot as plt\n",
    "# plot training history\n",
    "plt.plot(history.history['loss'], label='train')\n",
    "plt.plot(history.history['val_loss'], label='test')\n",
    "plt.legend()\n",
    "plt.show()"
   ]
  },
  {
   "cell_type": "code",
   "execution_count": null,
   "metadata": {},
   "outputs": [],
   "source": []
  },
  {
   "cell_type": "code",
   "execution_count": 220,
   "metadata": {},
   "outputs": [],
   "source": [
    "# load a saved model\n",
    "from keras.models import load_model\n",
    "saved_model = load_model('models/best_model.h5')"
   ]
  },
  {
   "cell_type": "code",
   "execution_count": 235,
   "metadata": {},
   "outputs": [],
   "source": [
    "def tweet_pipeline(tweet):\n",
    "    '''\n",
    "    Transformation Pipeline of the input tweet.\n",
    "    STEP:\n",
    "    - Tokenize the tweet => ['i', 'love', 'you']\n",
    "    - Convert to LabeledSentence gensim object\n",
    "    - Build tweet vectorization (word2vec)\n",
    "    - Scale (zero mean and unit standard deviation)\n",
    "    \n",
    "    input:\n",
    "    raw tweet, string\n",
    "    output:\n",
    "    vectorized tweet, np.array (200,)\n",
    "    '''\n",
    "\n",
    "    trump_tweet_tokenized = tokenize(tweet)\n",
    "    \n",
    "    trump_tweet_labelized = TaggedDocument(trump_tweet_tokenized,'TEST')\n",
    "    \n",
    "    tweet_vec = np.concatenate(buildWordVector(trump_tweet_labelized.words, n_dim))\n",
    "    \n",
    "    tweet = [scale(tweet_vec)]\n",
    "    \n",
    "    return tweet"
   ]
  },
  {
   "cell_type": "code",
   "execution_count": 236,
   "metadata": {},
   "outputs": [],
   "source": [
    "def sentiment_analysis(tweet, model):\n",
    "    \n",
    "    vect_tweet = tweet_pipeline(tweet)\n",
    "    \n",
    "    if (vect_tweet[0].ndim == 1):\n",
    "        vect_tweet[0] = np.array([vect_tweet[0]])\n",
    "    prediction = model.predict(vect_tweet[0])\n",
    "    \n",
    "    return prediction"
   ]
  },
  {
   "cell_type": "code",
   "execution_count": 240,
   "metadata": {},
   "outputs": [
    {
     "name": "stderr",
     "output_type": "stream",
     "text": [
      "C:\\Users\\theo0\\anaconda3\\envs\\keras_env\\lib\\site-packages\\ipykernel_launcher.py:6: DeprecationWarning: Call to deprecated `__getitem__` (Method will be removed in 4.0.0, use self.wv.__getitem__() instead).\n",
      "  \n"
     ]
    },
    {
     "data": {
      "text/plain": [
       "array([[0.71768564]], dtype=float32)"
      ]
     },
     "execution_count": 240,
     "metadata": {},
     "output_type": "execute_result"
    }
   ],
   "source": [
    "sentiment_analysis('I love you', saved_model)"
   ]
  },
  {
   "cell_type": "markdown",
   "metadata": {},
   "source": [
    "Now that the model is trained, let's evaluate it on the test set:"
   ]
  },
  {
   "cell_type": "code",
   "execution_count": null,
   "metadata": {},
   "outputs": [],
   "source": [
    "score = model.evaluate(test_vecs_w2v, y_test, batch_size=128, verbose=2)\n",
    "print(score[1])"
   ]
  },
  {
   "cell_type": "markdown",
   "metadata": {},
   "source": [
    "## Testing"
   ]
  },
  {
   "cell_type": "code",
   "execution_count": null,
   "metadata": {},
   "outputs": [],
   "source": [
    "trump_tweet_labelized.words"
   ]
  },
  {
   "cell_type": "code",
   "execution_count": 185,
   "metadata": {},
   "outputs": [
    {
     "name": "stderr",
     "output_type": "stream",
     "text": [
      "C:\\Users\\theo0\\anaconda3\\envs\\keras_env\\lib\\site-packages\\ipykernel_launcher.py:6: DeprecationWarning: Call to deprecated `__getitem__` (Method will be removed in 4.0.0, use self.wv.__getitem__() instead).\n",
      "  \n"
     ]
    }
   ],
   "source": [
    "#raw tweet\n",
    "trump_tweet = 'The Radical Left Mayors &  Governors of Cities where this crazy violence is taking place have lost control of their “Movement”. It wasn’t supposed to be like this, but the Anarchists & Agitators got carried away and don’t listen anymore - even forced Slow Joe out of basement!'\n",
    "#tokenization of the tweet => ['i', 'love', 'you']\n",
    "trump_tweet_tokenized = tokenize(trump_tweet)\n",
    "#convert to LabeledSentence objects\n",
    "trump_tweet_labelized = TaggedDocument(trump_tweet_tokenized,'TEST')\n",
    "#build world vector\n",
    "tweet_vec = np.concatenate(buildWordVector(trump_tweet_labelized.words, n_dim))\n",
    "#scale\n",
    "tweet2 = [scale(tweet_vec)]"
   ]
  },
  {
   "cell_type": "code",
   "execution_count": 186,
   "metadata": {},
   "outputs": [
    {
     "data": {
      "text/plain": [
       "array([[0.02822554]], dtype=float32)"
      ]
     },
     "execution_count": 186,
     "metadata": {},
     "output_type": "execute_result"
    }
   ],
   "source": [
    "if (tweet2[0].ndim == 1):\n",
    "    tweet2[0] = np.array([tweet2[0]])\n",
    "model.predict(tweet2[0])"
   ]
  },
  {
   "cell_type": "markdown",
   "metadata": {},
   "source": [
    "## Scrapping Twitter"
   ]
  },
  {
   "cell_type": "code",
   "execution_count": 244,
   "metadata": {},
   "outputs": [
    {
     "name": "stdout",
     "output_type": "stream",
     "text": [
      "Just watched what Biden had to say. To me, he’s blaming the Police far more than he’s blaming the Rioters, Anarchists, Agitators, and Looters, which he could never blame or he would lose the Radical Left Bernie supports!\n"
     ]
    }
   ],
   "source": [
    "import GetOldTweets3 as got\n",
    "def scrapping_twitter(username='realDonaldTrump'):\n",
    "    count = 2\n",
    "\n",
    "    tweetCriteria = got.manager.TweetCriteria().setUsername(username)\\\n",
    "                                               .setMaxTweets(count)\n",
    "    tweet = got.manager.TweetManager.getTweets(tweetCriteria)[0]\n",
    "    \n",
    "    return tweet.text"
   ]
  },
  {
   "cell_type": "code",
   "execution_count": 242,
   "metadata": {},
   "outputs": [
    {
     "name": "stderr",
     "output_type": "stream",
     "text": [
      "C:\\Users\\theo0\\anaconda3\\envs\\keras_env\\lib\\site-packages\\ipykernel_launcher.py:6: DeprecationWarning: Call to deprecated `__getitem__` (Method will be removed in 4.0.0, use self.wv.__getitem__() instead).\n",
      "  \n"
     ]
    },
    {
     "data": {
      "text/plain": [
       "array([[0.13973978]], dtype=float32)"
      ]
     },
     "execution_count": 242,
     "metadata": {},
     "output_type": "execute_result"
    }
   ],
   "source": [
    "sentiment_analysis(tweet.text, saved_model)"
   ]
  },
  {
   "cell_type": "code",
   "execution_count": null,
   "metadata": {},
   "outputs": [],
   "source": []
  }
 ],
 "metadata": {
  "kernelspec": {
   "display_name": "keras_env",
   "language": "python",
   "name": "keras_env"
  },
  "language_info": {
   "codemirror_mode": {
    "name": "ipython",
    "version": 3
   },
   "file_extension": ".py",
   "mimetype": "text/x-python",
   "name": "python",
   "nbconvert_exporter": "python",
   "pygments_lexer": "ipython3",
   "version": "3.7.7"
  },
  "toc": {
   "base_numbering": 1,
   "nav_menu": {},
   "number_sections": true,
   "sideBar": true,
   "skip_h1_title": true,
   "title_cell": "Table of Contents",
   "title_sidebar": "Contents",
   "toc_cell": true,
   "toc_position": {},
   "toc_section_display": true,
   "toc_window_display": false
  }
 },
 "nbformat": 4,
 "nbformat_minor": 4
}
